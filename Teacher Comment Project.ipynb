{
 "cells": [
  {
   "cell_type": "markdown",
   "metadata": {},
   "source": [
    "In the first semester, we covered the fundamentals of Python, including loops, conditionals,\n",
    "functions, and dictionaries. In addition, we explored connections between math and computer\n",
    "science, including plotting, simulating the game of craps, and optimizing customer service at a\n",
    "bank.\n",
    "In Miley’s self reflection, she wrote:\n",
    "‘I’m really proud of how far I’ve come in computer science. I really like the logic and problem\n",
    "solving involved; it’s like a puzzle.’\n",
    "I am pleased with Miley’s progress this semester. Her problem set average was 98%, which\n",
    "indicates that she had a solid understanding of the majority of the topics covered this semester\n",
    "and that she was consistent about meeting deadlines. Her quiz average and final exam score\n",
    "were 99% and 92%, respectively, which demonstrated that she grasped the new content\n",
    "thoroughly and could hand write algorithms without using outside resources.\n",
    "Her group Bank Project grade was a 93%, which indicated that her effort, time management,\n",
    "and collaboration relating to larger group assignments was good. In addition, she demonstrated\n",
    "significant enthusiasm and dedication when we participated in the Hackathons. These\n",
    "assignments allowed students to put forth as much effort as they wished to, and she chose to\n",
    "use these opportunities to seriously challenge herself, think creatively, and advance her skills.\n",
    "On the daily coding activities, she worked mostly by herself since the material came easily to\n",
    "her, but she was happy to help a classmate when they got stuck. In regard to using available\n",
    "resources like StackOverflow, she wisely utilized these resources to troubleshoot and gain\n",
    "inspiration and internalized the solutions that she found. In terms of coming in for extra help,\n",
    "she rarely if ever needed to do so because she was so easily able to pick up the concepts in\n",
    "class.\n",
    "Miley’s grade for the semester is an A. I look forward to her continued success next semester as\n",
    "we begin to explore more advanced computer science and data science topics."
   ]
  },
  {
   "cell_type": "code",
   "execution_count": 63,
   "metadata": {},
   "outputs": [
    {
     "name": "stdout",
     "output_type": "stream",
     "text": [
      "[['Course Description', '', '', '', '', '', '', '', '', '', '', '', '\\n'], ['This was a great course on CS!', '', '', '', '', '', '', '', '', '', '', '', '\\n'], ['', '', '', '', '', '', '', '', '', '', '', '', '\\n'], ['Name', 'pronoun', 'work ethic', 'time management', 'collaboration', 'humor', 'perseverance', 'extra help', 'PSET AVG', 'Quiz AVG', 'Final Exam', 'Bank Project', 'student comment\\n'], ['Miley Fang', 'she', '2', '2', '2', '2', '2', '0', '98', '99', '92', '93', \"I'm really proud of how far I've come in computer science. I really like the logic and problem solving involved; it's like a puzzle.\\n\"], ['Kanye Tahir', 'he', '0', '0', '0', '0', '1', '0', '70', '75', '60', '80', \"I've been slacking off a lot this semester. Computer science is harder than I thought it was going to be.\\n\"], ['Bob the Builder', 'they', '2', '2', '2', '2', '2', '2', '100', '100', '80', '80', 'Hello World!']]\n"
     ]
    }
   ],
   "source": [
    "### take the conference details from the csv file and put them into a list\n",
    "import csv\n",
    "comments = []\n",
    "with open(\"teacher.csv\", encoding = \"ISO-8859-1\") as f:\n",
    "    for row in f:\n",
    "        comments.append(row.split(\",\"))\n",
    "print(comments)"
   ]
  },
  {
   "cell_type": "code",
   "execution_count": 64,
   "metadata": {},
   "outputs": [],
   "source": [
    "def pronoun(prn):\n",
    "    \"\"\"This is a really useful function. Given a pronoun, it returns itself along with the two other relevant pronouns.\"\"\"\n",
    "    if prn==\"he\":\n",
    "        return [\"he\",\"him\",\"his\"]\n",
    "    elif prn==\"she\":\n",
    "        return [\"she\",\"her\",\"hers\"]\n",
    "    else:\n",
    "        return [\"they\",\"them\",\"their\"]"
   ]
  },
  {
   "cell_type": "code",
   "execution_count": null,
   "metadata": {},
   "outputs": [],
   "source": []
  },
  {
   "cell_type": "code",
   "execution_count": 77,
   "metadata": {},
   "outputs": [],
   "source": [
    "def main():\n",
    "    for line in comments[4:]:\n",
    "        comment = comments[1][0] + \"\\n\\n\"\n",
    "        name = line[0].split()[0].lower()\n",
    "        prns = pronoun(line[1])\n",
    "        print(line)\n",
    "        if name[-1] !='s':\n",
    "            comment += \"In \" + name.title() + \"' self reflection, \" + prns[0] + \" wrote:\\n\\n\"\n",
    "        else:\n",
    "            comment += \"In \" + name.title() + \"'s self reflection, \" + prns[0] + \" wrote: \"\n",
    "        comment += \"'\"+line[-1][:-1]+\"'\\n\\n\"\n",
    "        f_out = open(name + \".txt\", \"w\")\n",
    "        f_out.write(comment)\n",
    "        print(comment)"
   ]
  },
  {
   "cell_type": "code",
   "execution_count": 78,
   "metadata": {},
   "outputs": [
    {
     "name": "stdout",
     "output_type": "stream",
     "text": [
      "['Miley Fang', 'she', '2', '2', '2', '2', '2', '0', '98', '99', '92', '93', \"I'm really proud of how far I've come in computer science. I really like the logic and problem solving involved; it's like a puzzle.\\n\"]\n",
      "This was a great course on CS!\n",
      "\n",
      "In Miley' self reflection, she wrote:\n",
      "\n",
      "'I'm really proud of how far I've come in computer science. I really like the logic and problem solving involved; it's like a puzzle.'\n",
      "\n",
      "\n",
      "['Kanye Tahir', 'he', '0', '0', '0', '0', '1', '0', '70', '75', '60', '80', \"I've been slacking off a lot this semester. Computer science is harder than I thought it was going to be.\\n\"]\n",
      "This was a great course on CS!\n",
      "\n",
      "In Kanye' self reflection, he wrote:\n",
      "\n",
      "'I've been slacking off a lot this semester. Computer science is harder than I thought it was going to be.'\n",
      "\n",
      "\n",
      "['Bob the Builder', 'they', '2', '2', '2', '2', '2', '2', '100', '100', '80', '80', 'Hello World!']\n",
      "This was a great course on CS!\n",
      "\n",
      "In Bob' self reflection, they wrote:\n",
      "\n",
      "'Hello World'\n",
      "\n",
      "\n"
     ]
    }
   ],
   "source": [
    "main()"
   ]
  },
  {
   "cell_type": "code",
   "execution_count": null,
   "metadata": {},
   "outputs": [],
   "source": []
  },
  {
   "cell_type": "code",
   "execution_count": null,
   "metadata": {},
   "outputs": [],
   "source": []
  }
 ],
 "metadata": {
  "kernelspec": {
   "display_name": "Python 3",
   "language": "python",
   "name": "python3"
  },
  "language_info": {
   "codemirror_mode": {
    "name": "ipython",
    "version": 3
   },
   "file_extension": ".py",
   "mimetype": "text/x-python",
   "name": "python",
   "nbconvert_exporter": "python",
   "pygments_lexer": "ipython3",
   "version": "3.7.0"
  }
 },
 "nbformat": 4,
 "nbformat_minor": 2
}
